{
 "cells": [
  {
   "cell_type": "code",
   "execution_count": 49,
   "metadata": {},
   "outputs": [],
   "source": [
    "import sympy as sp\n",
    "import matplotlib.pyplot as plt\n",
    "import numpy as np\n",
    "from sympy.utilities import lambdify\n",
    "from matplotlib.animation import FuncAnimation as fa\n",
    "\n",
    "sp.init_printing()"
   ]
  },
  {
   "cell_type": "code",
   "execution_count": 50,
   "metadata": {},
   "outputs": [],
   "source": [
    "x = sp.Symbol('x', real = True)\n",
    "k = sp.Symbol('k', real = True, positive = True)\n",
    "m = sp.Symbol('m', real = True, positive = True)\n",
    "a = sp.Symbol('a', real = True)\n",
    "n = sp.Symbol('n', integer = True, nonzero = True)\n",
    "h = sp.Symbol('hbar', integer = True)\n",
    "t = sp.Symbol('t', real = True, positive = True)\n",
    "psi = sp.Function('\\psi')\n"
   ]
  },
  {
   "cell_type": "code",
   "execution_count": 51,
   "metadata": {},
   "outputs": [
    {
     "data": {
      "image/png": "[encoded data removed]",
      "text/latex": [
       "$\\displaystyle \\psi{\\left(x \\right)} = C_{1} \\sin{\\left(\\frac{\\pi n x}{a} \\right)}$"
      ],
      "text/plain": [
       "                ⎛π⋅n⋅x⎞\n",
       "\\psi(x) = C₁⋅sin⎜─────⎟\n",
       "                ⎝  a  ⎠"
      ]
     },
     "execution_count": 51,
     "metadata": {},
     "output_type": "execute_result"
    }
   ],
   "source": [
    "rownanie = sp.Eq(psi(x).diff(x, x), -k**2 * psi(x))\n",
    "sol = sp.dsolve(rownanie, psi(x), ics = {psi(0): 0})\n",
    "sol = sol.subs(k, n * sp.pi / a)\n",
    "sol"
   ]
  },
  {
   "cell_type": "code",
   "execution_count": 52,
   "metadata": {},
   "outputs": [
    {
     "data": {
      "image/png": "[encoded data removed]",
      "text/latex": [
       "$\\displaystyle \\psi{\\left(x \\right)} = \\sqrt{2} \\sqrt{\\frac{1}{a}} \\sin{\\left(\\frac{\\pi n x}{a} \\right)}$"
      ],
      "text/plain": [
       "                 ___           \n",
       "                ╱ 1     ⎛π⋅n⋅x⎞\n",
       "\\psi(x) = √2⋅  ╱  ─ ⋅sin⎜─────⎟\n",
       "             ╲╱   a     ⎝  a  ⎠"
      ]
     },
     "execution_count": 52,
     "metadata": {},
     "output_type": "execute_result"
    }
   ],
   "source": [
    "sol = sol.subs(sp.Symbol('C1'), sp.sqrt(2 / a))\n",
    "sol"
   ]
  },
  {
   "cell_type": "code",
   "execution_count": 66,
   "metadata": {},
   "outputs": [
    {
     "data": {
      "image/png": "[encoded data removed]",
      "text/latex": [
       "$\\displaystyle 0$"
      ],
      "text/plain": [
       "0"
      ]
     },
     "execution_count": 66,
     "metadata": {},
     "output_type": "execute_result"
    }
   ],
   "source": [
    "sp.integrate(sol.rhs * -1j *h * sol.rhs.diff(x), (x, 0, a)) #Tu jest <p>"
   ]
  },
  {
   "cell_type": "code",
   "execution_count": 67,
   "metadata": {},
   "outputs": [
    {
     "data": {
      "image/png": "[encoded data removed]",
      "text/latex": [
       "$\\displaystyle \\frac{\\pi^{2} \\hbar^{2} n^{2}}{a^{2}}$"
      ],
      "text/plain": [
       " 2  2  2\n",
       "π ⋅h̅ ⋅n \n",
       "────────\n",
       "    2   \n",
       "   a    "
      ]
     },
     "execution_count": 67,
     "metadata": {},
     "output_type": "execute_result"
    }
   ],
   "source": [
    "sp.integrate(sol.rhs * -1 *h**2 *(sol.rhs.diff(x,x)), (x, 0, a)) #Tu jest <p^2>"
   ]
  }
 ],
 "metadata": {
  "kernelspec": {
   "display_name": "Python 3",
   "language": "python",
   "name": "python3"
  },
  "language_info": {
   "codemirror_mode": {
    "name": "ipython",
    "version": 3
   },
   "file_extension": ".py",
   "mimetype": "text/x-python",
   "name": "python",
   "nbconvert_exporter": "python",
   "pygments_lexer": "ipython3",
   "version": "3.11.1"
  },
  "orig_nbformat": 4,
  "vscode": {
   "interpreter": {
    "hash": "b7a4e7302644ae200d5e2a190c786b2a80673a062c790926b4f3a837e9c59fe2"
   }
  }
 },
 "nbformat": 4,
 "nbformat_minor": 2
}
